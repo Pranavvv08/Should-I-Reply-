{
  "nbformat": 4,
  "nbformat_minor": 0,
  "metadata": {
    "colab": {
      "provenance": [],
      "toc_visible": true
    },
    "kernelspec": {
      "name": "python3",
      "display_name": "Python 3"
    },
    "language_info": {
      "name": "python"
    }
  },
  "cells": [
    {
      "cell_type": "markdown",
      "source": [
        "#Download and Import necessary modules"
      ],
      "metadata": {
        "id": "lnJ7WzUzd-Pp"
      }
    },
    {
      "cell_type": "code",
      "execution_count": 1,
      "metadata": {
        "id": "-Yqf_XIHGXE8"
      },
      "outputs": [],
      "source": [
        "from openai import OpenAI"
      ]
    },
    {
      "cell_type": "code",
      "source": [
        "!pip install --quiet imapclient"
      ],
      "metadata": {
        "id": "c1Ja86UyRndI"
      },
      "execution_count": 39,
      "outputs": []
    },
    {
      "cell_type": "markdown",
      "source": [
        "#Load your credentials"
      ],
      "metadata": {
        "id": "2xmfvpVseHXP"
      }
    },
    {
      "cell_type": "code",
      "source": [
        "#Store your secrets(credentials) in Google Secret Manager\n",
        "from google.colab import auth, userdata\n",
        "\n",
        "auth.authenticate_user()\n",
        "Username = userdata.get(\"EMAIL\")\n",
        "PASSWORDD = userdata.get(\"PASSWORD\")\n",
        "API_KEY=userdata.get(\"OPENROUTER_API_KEY\")\n"
      ],
      "metadata": {
        "id": "nmdjsnSGbstP"
      },
      "execution_count": 49,
      "outputs": []
    },
    {
      "cell_type": "markdown",
      "source": [
        "#Get data from your mail and then processing it"
      ],
      "metadata": {
        "id": "H2vWq9lOekCV"
      }
    },
    {
      "cell_type": "markdown",
      "source": [
        "##Using imapClient to fetch mails from Gmail"
      ],
      "metadata": {
        "id": "MLOd28WYew0P"
      }
    },
    {
      "cell_type": "code",
      "source": [
        "import imapclient\n",
        "import email\n",
        "from email.header import decode_header\n",
        "\n",
        "# Email credentials\n",
        "EMAIL = Username\n",
        "PASSWORD = PASSWORDD\n",
        "IMAP_SERVER = \"imap.gmail.com\"\n",
        "\n",
        "def fetch_emails():\n",
        "    with imapclient.IMAPClient(IMAP_SERVER) as mail:\n",
        "        mail.login(EMAIL, PASSWORD)\n",
        "        mail.select_folder(\"INBOX\")\n",
        "\n",
        "        # Fetching unread emails\n",
        "        messages = mail.search([\"UNSEEN\"])\n",
        "        if not messages:\n",
        "            print(\"No new emails.\")\n",
        "            return []\n",
        "\n",
        "        # Fetch latest 5 unread emails\n",
        "        response = mail.fetch(messages[-5:], [\"RFC822\"])\n",
        "\n",
        "        emails = []\n",
        "        for msgid, data in response.items():\n",
        "            raw_email = data[b\"RFC822\"]\n",
        "            msg = email.message_from_bytes(raw_email)\n",
        "\n",
        "            # Decode subject\n",
        "            subject, encoding = decode_header(msg[\"Subject\"])[0]\n",
        "            if isinstance(subject, bytes):\n",
        "                subject = subject.decode(encoding or \"utf-8\")\n",
        "\n",
        "            sender = msg.get(\"From\")\n",
        "\n",
        "            # Extract email body\n",
        "            body = \"\"\n",
        "            if msg.is_multipart():\n",
        "                for part in msg.walk():\n",
        "                    content_type = part.get_content_type()\n",
        "                    if content_type == \"text/plain\":\n",
        "                        body = part.get_payload(decode=True).decode(errors=\"ignore\")\n",
        "                        break\n",
        "            else:\n",
        "                body = msg.get_payload(decode=True).decode(errors=\"ignore\")\n",
        "\n",
        "            emails.append({\"sender\": sender, \"subject\": subject, \"body\": body})\n",
        "\n",
        "    return emails\n",
        "\n",
        "emails = fetch_emails()\n",
        "\n",
        "# Save emails to a file for the next script\n",
        "import json\n",
        "with open(\"emails.json\", \"w\") as f:\n",
        "    json.dump(emails, f)\n",
        "\n",
        "print(f\"Fetched {len(emails)} emails. Saved to 'emails.json'.\")\n"
      ],
      "metadata": {
        "colab": {
          "base_uri": "https://localhost:8080/"
        },
        "id": "LnkgfBIERjV2",
        "outputId": "24195d50-6027-4f1c-f250-3f52e1cef075"
      },
      "execution_count": 50,
      "outputs": [
        {
          "output_type": "stream",
          "name": "stdout",
          "text": [
            "Fetched 5 emails. Saved to 'emails.json'.\n"
          ]
        }
      ]
    },
    {
      "cell_type": "markdown",
      "source": [
        "##AI analysis of the mail"
      ],
      "metadata": {
        "id": "zJ2XZ7Zte6uU"
      }
    },
    {
      "cell_type": "code",
      "source": [
        "import requests\n",
        "import json\n",
        "\n",
        "OPENROUTER_API_KEY = API_KEY\n",
        "\n",
        "def analyze_email(subject, body):\n",
        "    prompt = f\"\"\"\n",
        "    You are an AI assistant helping manage emails. Analyze the following email and return:\n",
        "    - Urgency level: \"Urgent\", \"Important\", or \"Ignore\" give answer in a sentence .\n",
        "    - Emotional tone: \"Angry\", \"Neutral\", \"Friendly\" give answer in a sentence.\n",
        "    - Suggested reply First choose whether to reply to the email or not. only if you choose to reply : (3-5 sentences) in a formal way. Write personalized mails ,Including regards and my Name \"Pranav Sasank\"\n",
        "    Email:\n",
        "    Subject: {subject}\n",
        "    Body: {body}\n",
        "\n",
        "    Return in this format:\n",
        "    Urgency: [Urgency level]\n",
        "    Tone: [Emotional tone]\n",
        "    Reply: [Suggested reply]\n",
        "    \"\"\"\n",
        "\n",
        "    headers = {\"Authorization\": f\"Bearer {OPENROUTER_API_KEY}\", \"Content-Type\": \"application/json\"}\n",
        "    data = {\n",
        "        \"model\": \"deepseek/deepseek-chat:free\",\n",
        "        \"messages\": [{\"role\": \"user\", \"content\": prompt}],\n",
        "    }\n",
        "\n",
        "    response = requests.post(\"https://openrouter.ai/api/v1/chat/completions\", json=data, headers=headers)\n",
        "    return response.json()[\"choices\"][0][\"message\"][\"content\"]\n"
      ],
      "metadata": {
        "id": "CqXFgVTIR9oD"
      },
      "execution_count": 52,
      "outputs": []
    },
    {
      "cell_type": "markdown",
      "source": [
        "#Output"
      ],
      "metadata": {
        "id": "x9u09zYmfrI5"
      }
    },
    {
      "cell_type": "code",
      "source": [
        "# Load emails from the file saved in the first script\n",
        "with open(\"emails.json\", \"r\") as f:\n",
        "    emails = json.load(f)\n",
        "\n",
        "# Analyze and print results\n",
        "for email in emails:\n",
        "    print(f\"Analyzing email from {email['sender']} - Subject: {email['subject']}\")\n",
        "    analysis = analyze_email(email[\"subject\"], email[\"body\"])\n",
        "    print(f\"Analysis:\\n{analysis}\\n\")"
      ],
      "metadata": {
        "colab": {
          "base_uri": "https://localhost:8080/"
        },
        "id": "PHsVv3fFSuG9",
        "outputId": "94c1b7cf-4485-4874-bd2b-9f15736bddc6"
      },
      "execution_count": 53,
      "outputs": [
        {
          "output_type": "stream",
          "name": "stdout",
          "text": [
            "Analyzing email from Hugging Face Team <thomas.simonini@huggingface.co> - Subject: 🤖 Agents Course: New Unit on LangGraph library!\n",
            "Analysis:\n",
            "Urgency: Ignore  \n",
            "Tone: Friendly  \n",
            "Reply: No reply needed. This email is informational and does not require a response. Continue with the course at your own pace.\n",
            "\n",
            "Analyzing email from \"Indastro -  Pt. Punarvasu\" <ptpunarvasu@indastro.com> - Subject: 6 Planets on 30th March 2025: Major Disruption Expected\n",
            "Analysis:\n",
            "Urgency: Ignore  \n",
            "Tone: Neutral  \n",
            "Reply: No reply needed. This email appears to be an astrological update and promotional content, which does not require immediate attention or response.\n",
            "\n",
            "Analyzing email from LinkedIn <messages-noreply@linkedin.com> - Subject: Welcome to Premium, Pranav Sasank! Let’s get started\n",
            "Analysis:\n",
            "Urgency: Ignore  \n",
            "Tone: Friendly  \n",
            "Reply: No reply needed.\n",
            "\n",
            "Analyzing email from Yahvi Khamitkar via LinkedIn <messaging-digest-noreply@linkedin.com> - Subject: Yahvi just messaged you\n",
            "Analysis:\n",
            "Urgency: Important  \n",
            "Tone: Neutral  \n",
            "Reply: I will reply to this email.  \n",
            "\n",
            "Dear Yahvi,  \n",
            "\n",
            "Thank you for reaching out. I have received your message and will review it shortly. I appreciate your initiative in connecting and look forward to engaging further on the topic.  \n",
            "\n",
            "Best regards,  \n",
            "Pranav Sasank\n",
            "\n",
            "Analyzing email from \"Snigdha P. via LinkedIn\" <invitations@linkedin.com> - Subject: Pranav Sasank, start a conversation with your new connection,\n",
            " Snigdha\n",
            "Analysis:\n",
            "Urgency: Ignore  \n",
            "Tone: Neutral  \n",
            "Reply: No reply needed. This is an automated LinkedIn notification about a connection request and does not require a response.\n",
            "\n"
          ]
        }
      ]
    },
    {
      "cell_type": "code",
      "source": [],
      "metadata": {
        "id": "Gvtow-LDfjlV"
      },
      "execution_count": null,
      "outputs": []
    }
  ]
}